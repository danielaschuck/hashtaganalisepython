{
  "nbformat": 4,
  "nbformat_minor": 0,
  "metadata": {
    "colab": {
      "provenance": [],
      "collapsed_sections": [],
      "include_colab_link": true
    },
    "kernelspec": {
      "name": "python3",
      "display_name": "Python 3"
    }
  },
  "cells": [
    {
      "cell_type": "markdown",
      "metadata": {
        "id": "view-in-github",
        "colab_type": "text"
      },
      "source": [
        "<a href=\"https://colab.research.google.com/github/danielaschuck/hashtaganalisepython/blob/main/Minicurso_Analise_de_Dados_Python.ipynb\" target=\"_parent\"><img src=\"https://colab.research.google.com/assets/colab-badge.svg\" alt=\"Open In Colab\"/></a>"
      ]
    },
    {
      "cell_type": "code",
      "source": [
        "from google.colab import drive\n",
        "drive.mount('/content/drive')"
      ],
      "metadata": {
        "colab": {
          "base_uri": "https://localhost:8080/"
        },
        "id": "K7p61YwnZ3qF",
        "outputId": "814277d8-324f-4e12-850f-d5e4c68710fb"
      },
      "execution_count": null,
      "outputs": [
        {
          "output_type": "stream",
          "name": "stdout",
          "text": [
            "Drive already mounted at /content/drive; to attempt to forcibly remount, call drive.mount(\"/content/drive\", force_remount=True).\n"
          ]
        }
      ]
    },
    {
      "cell_type": "markdown",
      "metadata": {
        "id": "A4VwUp4-f8KN"
      },
      "source": [
        "# Desafio: \n",
        "\n",
        "Você trabalha em uma grande empresa de Cartão de Crédito e o diretor da empresa percebeu que o número de clientes que cancelam seus cartões tem aumentado significativamente, causando prejuízos enormes para a empresa\n",
        "\n",
        "O que fazer para evitar isso? Como saber as pessoas que têm maior tendência a cancelar o cartão?\n",
        "\n",
        "# O que temos:\n",
        "\n",
        "Temos 1 base de dados com informações dos clientes, tanto clientes atuais quanto clientes que cancelaram o cartão\n",
        "\n",
        "Download da Base de Dados: Botão na página\n",
        "\n",
        "Referência: https://www.kaggle.com/sakshigoyal7/credit-card-customers"
      ]
    },
    {
      "cell_type": "code",
      "metadata": {
        "id": "P6lYkZPG-QBX"
      },
      "source": [
        "import pandas as pd\n",
        "\n",
        "tabela = pd.read_csv(\"/content/drive/MyDrive/Colab Notebooks/ClientesBanco.csv\", encoding=\"latin1\")\n",
        "tabela = tabela.drop(\"CLIENTNUM\", axis=1)\n",
        "display(tabela)"
      ],
      "execution_count": null,
      "outputs": []
    },
    {
      "cell_type": "code",
      "source": [
        "tabela = tabela.dropna()\n",
        "display(tabela.info())\n",
        "\n",
        "display(tabela.describe().round(1))"
      ],
      "metadata": {
        "id": "OzCq_rBJadlT"
      },
      "execution_count": null,
      "outputs": []
    },
    {
      "cell_type": "code",
      "source": [
        "qtde_categoria=tabela[\"Categoria\"].value_counts()\n",
        "display(qtde_categoria)\n",
        "qtde_categoria_perc = tabela[\"Categoria\"].value_counts(normalize=True)\n",
        "display(qtde_categoria_perc)"
      ],
      "metadata": {
        "id": "eOCO6VEHdbgT"
      },
      "execution_count": null,
      "outputs": []
    },
    {
      "cell_type": "markdown",
      "source": [
        "Estamos analisando clientes e cancelados por idade\n"
      ],
      "metadata": {
        "id": "zThZ6bvJ7hgV"
      }
    },
    {
      "cell_type": "code",
      "source": [
        "import plotly.express as px\n",
        "grafico=px.histogram(tabela ,x=\"Idade\",color=\"Categoria\")\n",
        "grafico.show()"
      ],
      "metadata": {
        "id": "bZ-QfyS4pgVC"
      },
      "execution_count": null,
      "outputs": []
    },
    {
      "cell_type": "markdown",
      "source": [
        "Gerando gráficos com for para cada coluna por categoria"
      ],
      "metadata": {
        "id": "nw22itRW-qhK"
      }
    },
    {
      "cell_type": "code",
      "source": [
        "import plotly.express as px\n",
        "#para linhas seria for linhas in tabela.index:\n",
        "#para coluna é\n",
        "for coluna in tabela:\n",
        "  grafico=px.histogram(tabela ,x=coluna,color=\"Categoria\")\n",
        "  grafico.show()"
      ],
      "metadata": {
        "id": "UyRiNKOw7Hbc"
      },
      "execution_count": null,
      "outputs": []
    },
    {
      "cell_type": "markdown",
      "source": [
        "Conclusão\n",
        "\n",
        "Clientes com  mais produtos contratados  menor a chance dele cancelar.\n",
        "Clientes com maior uso tem menos chance de cancelar.\n",
        "Clientes com maior numero de  transações e maior o valor de transação tem menos cancelamentos.\n",
        "Quanto maior a quantidade de contatos que a pessoa teve que fazer, maior a chance dela cancelar.\n"
      ],
      "metadata": {
        "id": "4YE72OnWC_rK"
      }
    }
  ]
}